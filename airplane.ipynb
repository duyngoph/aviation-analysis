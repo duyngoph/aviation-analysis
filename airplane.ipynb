{
 "cells": [
  {
   "cell_type": "code",
   "execution_count": 34,
   "metadata": {},
   "outputs": [],
   "source": [
    "import numpy as np\n",
    "import pandas as pd \n",
    "import statsmodels.api as sm\n",
    "import matplotlib.pyplot as plt"
   ]
  },
  {
   "cell_type": "code",
   "execution_count": 35,
   "metadata": {},
   "outputs": [
    {
     "name": "stdout",
     "output_type": "stream",
     "text": [
      "<class 'pandas.core.frame.DataFrame'>\n",
      "Index: 6522127 entries, 0 to 6527978\n",
      "Data columns (total 11 columns):\n",
      " #   Column        Dtype  \n",
      "---  ------        -----  \n",
      " 0   airline_code  object \n",
      " 1   origin        object \n",
      " 2   finaldest     object \n",
      " 3   return        int64  \n",
      " 4   year          int64  \n",
      " 5   quarter       int64  \n",
      " 6   airports      int64  \n",
      " 7   return_sym    int64  \n",
      " 8   stops         int64  \n",
      " 9   passengers    float64\n",
      " 10  itinfare      float64\n",
      "dtypes: float64(2), int64(6), object(3)\n",
      "memory usage: 597.1+ MB\n"
     ]
    }
   ],
   "source": [
    "df = pd.read_csv(\"dataset/clean/airline-route-panel.csv\")\n",
    "df = df[df['origin'] != df['finaldest']]\n",
    "df.head()\n",
    "df.info()"
   ]
  },
  {
   "cell_type": "code",
   "execution_count": 36,
   "metadata": {},
   "outputs": [
    {
     "name": "stdout",
     "output_type": "stream",
     "text": [
      "<class 'pandas.core.frame.DataFrame'>\n",
      "RangeIndex: 341 entries, 0 to 340\n",
      "Data columns (total 7 columns):\n",
      " #   Column     Non-Null Count  Dtype  \n",
      "---  ------     --------------  -----  \n",
      " 0   IATA       341 non-null    object \n",
      " 1   AIRPORT    341 non-null    object \n",
      " 2   CITY       337 non-null    object \n",
      " 3   STATE      337 non-null    object \n",
      " 4   COUNTRY    341 non-null    object \n",
      " 5   LATITUDE   341 non-null    float64\n",
      " 6   LONGITUDE  341 non-null    float64\n",
      "dtypes: float64(2), object(5)\n",
      "memory usage: 18.8+ KB\n"
     ]
    }
   ],
   "source": [
    "airport_code = pd.read_csv(\"dataset/clean/airports.csv\")\n",
    "airport_code.info()"
   ]
  },
  {
   "cell_type": "code",
   "execution_count": 37,
   "metadata": {},
   "outputs": [],
   "source": [
    "airport_ca = airport_code[airport_code[\"STATE\"] == 'CA']"
   ]
  },
  {
   "cell_type": "code",
   "execution_count": 38,
   "metadata": {},
   "outputs": [
    {
     "name": "stdout",
     "output_type": "stream",
     "text": [
      "<class 'pandas.core.frame.DataFrame'>\n",
      "Index: 33395 entries, 23101 to 6515761\n",
      "Data columns (total 11 columns):\n",
      " #   Column        Non-Null Count  Dtype  \n",
      "---  ------        --------------  -----  \n",
      " 0   airline_code  33395 non-null  object \n",
      " 1   origin        33395 non-null  object \n",
      " 2   finaldest     33395 non-null  object \n",
      " 3   return        33395 non-null  int64  \n",
      " 4   year          33395 non-null  int64  \n",
      " 5   quarter       33395 non-null  int64  \n",
      " 6   airports      33395 non-null  int64  \n",
      " 7   return_sym    33395 non-null  int64  \n",
      " 8   stops         33395 non-null  int64  \n",
      " 9   passengers    33395 non-null  float64\n",
      " 10  itinfare      33395 non-null  float64\n",
      "dtypes: float64(2), int64(6), object(3)\n",
      "memory usage: 3.1+ MB\n"
     ]
    }
   ],
   "source": [
    "flight_ca = df[(df['origin'].isin(airport_ca['IATA']) & df['finaldest'].isin(airport_ca['IATA']))]\n",
    "flight_ca.info()"
   ]
  },
  {
   "cell_type": "code",
   "execution_count": 48,
   "metadata": {},
   "outputs": [],
   "source": [
    "def season_encoding(data):\n",
    "    if data == 1:\n",
    "        return 'Winter'\n",
    "    elif data == 2:\n",
    "        return 'Spring'\n",
    "    elif data == 3:\n",
    "        return 'Summer'\n",
    "    else:\n",
    "        return 'Fall'\n",
    "\n",
    "flight_ca['Season'] = flight_ca['quarter'].apply(season_encoding)"
   ]
  },
  {
   "cell_type": "code",
   "execution_count": 40,
   "metadata": {},
   "outputs": [],
   "source": [
    "#merge lat and long for origin\n",
    "flight_ca = flight_ca.merge(airport_ca, how='left', left_on = 'origin', right_on = 'IATA')\n",
    "flight_ca.rename(columns = {'latitude': 'origin_latitude', 'longitude': 'origin_longitude'}, inplace = True)\n",
    "\n",
    "#merge for dest\n",
    "flight_ca = flight_ca.merge(airport_ca, how='left', left_on = 'finaldest', right_on = 'IATA')\n",
    "flight_ca.rename(columns = {'latitude': 'origin_latitude', 'longitude': 'origin_longitude'}, inplace = True)"
   ]
  },
  {
   "cell_type": "code",
   "execution_count": 41,
   "metadata": {},
   "outputs": [
    {
     "data": {
      "text/html": [
       "<div>\n",
       "<style scoped>\n",
       "    .dataframe tbody tr th:only-of-type {\n",
       "        vertical-align: middle;\n",
       "    }\n",
       "\n",
       "    .dataframe tbody tr th {\n",
       "        vertical-align: top;\n",
       "    }\n",
       "\n",
       "    .dataframe thead th {\n",
       "        text-align: right;\n",
       "    }\n",
       "</style>\n",
       "<table border=\"1\" class=\"dataframe\">\n",
       "  <thead>\n",
       "    <tr style=\"text-align: right;\">\n",
       "      <th></th>\n",
       "      <th>Code</th>\n",
       "      <th>Airline</th>\n",
       "    </tr>\n",
       "  </thead>\n",
       "  <tbody>\n",
       "    <tr>\n",
       "      <th>0</th>\n",
       "      <td>02Q</td>\n",
       "      <td>Titan Airways</td>\n",
       "    </tr>\n",
       "    <tr>\n",
       "      <th>1</th>\n",
       "      <td>04Q</td>\n",
       "      <td>Tradewind Aviation</td>\n",
       "    </tr>\n",
       "    <tr>\n",
       "      <th>2</th>\n",
       "      <td>05Q</td>\n",
       "      <td>Comlux Aviation, AG</td>\n",
       "    </tr>\n",
       "    <tr>\n",
       "      <th>3</th>\n",
       "      <td>06Q</td>\n",
       "      <td>Master Top Linhas Aereas Ltd.</td>\n",
       "    </tr>\n",
       "    <tr>\n",
       "      <th>4</th>\n",
       "      <td>07Q</td>\n",
       "      <td>Flair Airlines Ltd.</td>\n",
       "    </tr>\n",
       "  </tbody>\n",
       "</table>\n",
       "</div>"
      ],
      "text/plain": [
       "  Code                        Airline\n",
       "0  02Q                  Titan Airways\n",
       "1  04Q             Tradewind Aviation\n",
       "2  05Q            Comlux Aviation, AG\n",
       "3  06Q  Master Top Linhas Aereas Ltd.\n",
       "4  07Q            Flair Airlines Ltd."
      ]
     },
     "execution_count": 41,
     "metadata": {},
     "output_type": "execute_result"
    }
   ],
   "source": [
    "airline = pd.read_csv('airlines.csv')\n",
    "airline.rename(columns={'Description' : 'Airline'}, inplace = True)\n",
    "airline.head()"
   ]
  },
  {
   "cell_type": "code",
   "execution_count": 42,
   "metadata": {},
   "outputs": [],
   "source": [
    "flight_ca = flight_ca.merge(airline, how = 'left', left_on='airline_code', right_on='Code')"
   ]
  },
  {
   "cell_type": "code",
   "execution_count": 43,
   "metadata": {},
   "outputs": [],
   "source": [
    "flight_ca = pd.get_dummies(flight_ca, columns = ['Season'], drop_first = True)"
   ]
  },
  {
   "cell_type": "code",
   "execution_count": 49,
   "metadata": {},
   "outputs": [
    {
     "data": {
      "text/html": [
       "<div>\n",
       "<style scoped>\n",
       "    .dataframe tbody tr th:only-of-type {\n",
       "        vertical-align: middle;\n",
       "    }\n",
       "\n",
       "    .dataframe tbody tr th {\n",
       "        vertical-align: top;\n",
       "    }\n",
       "\n",
       "    .dataframe thead th {\n",
       "        text-align: right;\n",
       "    }\n",
       "</style>\n",
       "<table border=\"1\" class=\"dataframe\">\n",
       "  <thead>\n",
       "    <tr style=\"text-align: right;\">\n",
       "      <th></th>\n",
       "      <th>airline_code</th>\n",
       "      <th>origin</th>\n",
       "      <th>finaldest</th>\n",
       "      <th>return</th>\n",
       "      <th>year</th>\n",
       "      <th>quarter</th>\n",
       "      <th>airports</th>\n",
       "      <th>return_sym</th>\n",
       "      <th>stops</th>\n",
       "      <th>passengers</th>\n",
       "      <th>...</th>\n",
       "      <th>STATE_y</th>\n",
       "      <th>COUNTRY_y</th>\n",
       "      <th>LATITUDE_y</th>\n",
       "      <th>LONGITUDE_y</th>\n",
       "      <th>Code</th>\n",
       "      <th>Airline</th>\n",
       "      <th>Season_Spring</th>\n",
       "      <th>Season_Summer</th>\n",
       "      <th>Season_Winter</th>\n",
       "      <th>Season</th>\n",
       "    </tr>\n",
       "  </thead>\n",
       "  <tbody>\n",
       "    <tr>\n",
       "      <th>0</th>\n",
       "      <td>AA</td>\n",
       "      <td>BUR</td>\n",
       "      <td>LAX</td>\n",
       "      <td>0</td>\n",
       "      <td>2010</td>\n",
       "      <td>2</td>\n",
       "      <td>4</td>\n",
       "      <td>0</td>\n",
       "      <td>2</td>\n",
       "      <td>42.0</td>\n",
       "      <td>...</td>\n",
       "      <td>CA</td>\n",
       "      <td>USA</td>\n",
       "      <td>33.942536</td>\n",
       "      <td>-118.408074</td>\n",
       "      <td>AA</td>\n",
       "      <td>American Airlines Inc.</td>\n",
       "      <td>True</td>\n",
       "      <td>False</td>\n",
       "      <td>False</td>\n",
       "      <td>Spring</td>\n",
       "    </tr>\n",
       "    <tr>\n",
       "      <th>1</th>\n",
       "      <td>AA</td>\n",
       "      <td>BUR</td>\n",
       "      <td>ONT</td>\n",
       "      <td>0</td>\n",
       "      <td>2010</td>\n",
       "      <td>2</td>\n",
       "      <td>3</td>\n",
       "      <td>1</td>\n",
       "      <td>1</td>\n",
       "      <td>1.0</td>\n",
       "      <td>...</td>\n",
       "      <td>CA</td>\n",
       "      <td>USA</td>\n",
       "      <td>34.056000</td>\n",
       "      <td>-117.601194</td>\n",
       "      <td>AA</td>\n",
       "      <td>American Airlines Inc.</td>\n",
       "      <td>True</td>\n",
       "      <td>False</td>\n",
       "      <td>False</td>\n",
       "      <td>Spring</td>\n",
       "    </tr>\n",
       "    <tr>\n",
       "      <th>2</th>\n",
       "      <td>AA</td>\n",
       "      <td>BUR</td>\n",
       "      <td>SAN</td>\n",
       "      <td>0</td>\n",
       "      <td>2010</td>\n",
       "      <td>2</td>\n",
       "      <td>3</td>\n",
       "      <td>1</td>\n",
       "      <td>1</td>\n",
       "      <td>1.0</td>\n",
       "      <td>...</td>\n",
       "      <td>CA</td>\n",
       "      <td>USA</td>\n",
       "      <td>32.733556</td>\n",
       "      <td>-117.189657</td>\n",
       "      <td>AA</td>\n",
       "      <td>American Airlines Inc.</td>\n",
       "      <td>True</td>\n",
       "      <td>False</td>\n",
       "      <td>False</td>\n",
       "      <td>Spring</td>\n",
       "    </tr>\n",
       "    <tr>\n",
       "      <th>3</th>\n",
       "      <td>AA</td>\n",
       "      <td>BUR</td>\n",
       "      <td>SFO</td>\n",
       "      <td>0</td>\n",
       "      <td>2010</td>\n",
       "      <td>2</td>\n",
       "      <td>4</td>\n",
       "      <td>0</td>\n",
       "      <td>2</td>\n",
       "      <td>2.0</td>\n",
       "      <td>...</td>\n",
       "      <td>CA</td>\n",
       "      <td>USA</td>\n",
       "      <td>37.619002</td>\n",
       "      <td>-122.374843</td>\n",
       "      <td>AA</td>\n",
       "      <td>American Airlines Inc.</td>\n",
       "      <td>True</td>\n",
       "      <td>False</td>\n",
       "      <td>False</td>\n",
       "      <td>Spring</td>\n",
       "    </tr>\n",
       "    <tr>\n",
       "      <th>4</th>\n",
       "      <td>AA</td>\n",
       "      <td>BUR</td>\n",
       "      <td>SJC</td>\n",
       "      <td>0</td>\n",
       "      <td>2010</td>\n",
       "      <td>2</td>\n",
       "      <td>3</td>\n",
       "      <td>1</td>\n",
       "      <td>1</td>\n",
       "      <td>1.0</td>\n",
       "      <td>...</td>\n",
       "      <td>CA</td>\n",
       "      <td>USA</td>\n",
       "      <td>37.361862</td>\n",
       "      <td>-121.929009</td>\n",
       "      <td>AA</td>\n",
       "      <td>American Airlines Inc.</td>\n",
       "      <td>True</td>\n",
       "      <td>False</td>\n",
       "      <td>False</td>\n",
       "      <td>Spring</td>\n",
       "    </tr>\n",
       "  </tbody>\n",
       "</table>\n",
       "<p>5 rows × 31 columns</p>\n",
       "</div>"
      ],
      "text/plain": [
       "  airline_code origin finaldest  return  year  quarter  airports  return_sym  \\\n",
       "0           AA    BUR       LAX       0  2010        2         4           0   \n",
       "1           AA    BUR       ONT       0  2010        2         3           1   \n",
       "2           AA    BUR       SAN       0  2010        2         3           1   \n",
       "3           AA    BUR       SFO       0  2010        2         4           0   \n",
       "4           AA    BUR       SJC       0  2010        2         3           1   \n",
       "\n",
       "   stops  passengers  ...  STATE_y COUNTRY_y LATITUDE_y LONGITUDE_y Code  \\\n",
       "0      2        42.0  ...       CA       USA  33.942536 -118.408074   AA   \n",
       "1      1         1.0  ...       CA       USA  34.056000 -117.601194   AA   \n",
       "2      1         1.0  ...       CA       USA  32.733556 -117.189657   AA   \n",
       "3      2         2.0  ...       CA       USA  37.619002 -122.374843   AA   \n",
       "4      1         1.0  ...       CA       USA  37.361862 -121.929009   AA   \n",
       "\n",
       "                  Airline  Season_Spring  Season_Summer Season_Winter  Season  \n",
       "0  American Airlines Inc.           True          False         False  Spring  \n",
       "1  American Airlines Inc.           True          False         False  Spring  \n",
       "2  American Airlines Inc.           True          False         False  Spring  \n",
       "3  American Airlines Inc.           True          False         False  Spring  \n",
       "4  American Airlines Inc.           True          False         False  Spring  \n",
       "\n",
       "[5 rows x 31 columns]"
      ]
     },
     "execution_count": 49,
     "metadata": {},
     "output_type": "execute_result"
    }
   ],
   "source": [
    "flight_ca.head()"
   ]
  },
  {
   "cell_type": "code",
   "execution_count": 45,
   "metadata": {},
   "outputs": [],
   "source": [
    "X = flight_ca[['Season_Spring', 'Season_Summer', 'Season_Winter']].astype(int)\n",
    "Y = flight_ca[['itinfare']]"
   ]
  },
  {
   "cell_type": "code",
   "execution_count": 46,
   "metadata": {},
   "outputs": [],
   "source": [
    "X = sm.add_constant(X)\n",
    "model = sm.OLS(Y, X).fit()\n",
    "coef = pd.DataFrame(model.params).reset_index()\n",
    "coef.to_csv('seasonality.csv')"
   ]
  },
  {
   "cell_type": "code",
   "execution_count": 51,
   "metadata": {},
   "outputs": [],
   "source": [
    "flight_ca.to_csv('flight_ca.csv', index = False)"
   ]
  },
  {
   "cell_type": "code",
   "execution_count": null,
   "metadata": {},
   "outputs": [],
   "source": []
  }
 ],
 "metadata": {
  "kernelspec": {
   "display_name": "base",
   "language": "python",
   "name": "python3"
  },
  "language_info": {
   "codemirror_mode": {
    "name": "ipython",
    "version": 3
   },
   "file_extension": ".py",
   "mimetype": "text/x-python",
   "name": "python",
   "nbconvert_exporter": "python",
   "pygments_lexer": "ipython3",
   "version": "3.11.7"
  }
 },
 "nbformat": 4,
 "nbformat_minor": 2
}
